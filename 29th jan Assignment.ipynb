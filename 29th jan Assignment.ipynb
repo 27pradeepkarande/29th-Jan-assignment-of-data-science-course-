{
 "cells": [
  {
   "cell_type": "code",
   "execution_count": null,
   "id": "0aa76c89-b04e-490e-8dad-81dd9fdccc71",
   "metadata": {},
   "outputs": [],
   "source": [
    "1. Who devolped Python programming Language ?\n",
    "\n",
    "Ans :- Python language was devolped by Guiddo von Rossum on february 20 1991.\n"
   ]
  },
  {
   "cell_type": "code",
   "execution_count": null,
   "id": "b4c61779-d210-4e9a-b52b-e43d39916373",
   "metadata": {},
   "outputs": [],
   "source": [
    "2. Which type of programming does python support ?\n",
    "\n",
    "Ans :- Python is an interpreted programming language, supporting object-oriented, structured, and functional programming.\n"
   ]
  },
  {
   "cell_type": "code",
   "execution_count": null,
   "id": "f2c55ec1-a7fc-4f90-824e-d3a4b9360820",
   "metadata": {},
   "outputs": [],
   "source": [
    "3. Is python case sensitive when dealing with identifiers ?\n",
    "\n",
    "Ans :- Yes, Python is case sensitive."
   ]
  },
  {
   "cell_type": "code",
   "execution_count": null,
   "id": "6ec2e064-d7d0-4a42-be40-b16a8d523276",
   "metadata": {},
   "outputs": [],
   "source": [
    "4. What is correct extension of Python file ?\n",
    "\n",
    "Ans :- The extensions for Python files are – . py, . pyi, . pyc, .\n"
   ]
  },
  {
   "cell_type": "code",
   "execution_count": null,
   "id": "86754a9b-1280-44db-bff5-371e7b2fd187",
   "metadata": {},
   "outputs": [],
   "source": [
    "5. Is Python compiled or Interpreted ?\n",
    "\n",
    "Ans :- Python language is intrepeted language , the code of Python is Interpreted."
   ]
  },
  {
   "cell_type": "code",
   "execution_count": null,
   "id": "b8f80169-a9b8-4592-8a91-046e3ece7017",
   "metadata": {},
   "outputs": [],
   "source": [
    "6. Name a few blocks of code used to define in Python Language ?\n",
    "\n",
    "Ans :- These are few blocks of code which is used to define in python.\n",
    "     \n",
    "        Module:\n",
    "        A module is a Python file that contains a collection of functions and variables.Modules are used to organize code\n",
    "        and make it reusable. To define a module, use the module.py file extension.\n",
    "        \n",
    "        Function:\n",
    "        A function is a block of code that performs a specific task. Functions are used to encapsulate code and make\n",
    "        it reusable. To define a function, use the def keyword.\n",
    "        \n",
    "        Class:\n",
    "        A class is a blueprint for creating objects. Classes are used to define the structure and behavior of objects. \n",
    "        To define a class,use the class keyword.\n",
    "        \n",
    "        If-else statement:\n",
    "        An if-else statement is a block of code that executes a different block of code depending on whether a condition\n",
    "        is trueor false. To define an if-else statement, use the if and else keywords.\n",
    "        \n",
    "        For loop:\n",
    "        A for loop is a block of code that executes a repeated number of times. For loops are used to iterate over sequences\n",
    "        of data. To define a for loop, use the for keyword.\n",
    "        \n",
    "        While loop:\n",
    "        A while loop is a block of code that executes repeatedly as long as a condition is true. While loops are used to \n",
    "        iterate over sequences of data or to wait for an event to occur. To define a while loop, use the while keyword.\n",
    "        \n",
    "        Try-except statement:\n",
    "        A try-except statement is a block of code that tries to execute a block of code, and if an error occurs, it executes\n",
    "        a different block of code. To define a try-except statement, use the try and except keywords.\n",
    "        \n",
    "        \n",
    "        With statement:\n",
    "        A with statement is a block of code that executes a block of code, and when the block of code finishes executing, it\n",
    "        closes a resource. To define a with statement, use the with keyword.\n",
    "        "
   ]
  },
  {
   "cell_type": "code",
   "execution_count": null,
   "id": "e060b5a7-d599-44d8-a5bd-5768fad69441",
   "metadata": {},
   "outputs": [],
   "source": [
    "7. State a character used to give singe-line comments in Python ?\n",
    "\n",
    "Ans :- In Python, the hash symbol [#] is used to start a single-line comment. The comment continues after the #\n",
    "    until the end of the line."
   ]
  },
  {
   "cell_type": "code",
   "execution_count": null,
   "id": "ad9b0436-78be-41de-a62f-54e84517360e",
   "metadata": {},
   "outputs": [],
   "source": [
    "8. Mention fuctions Which can help us to find the version of Python that we are currently working on ?\n",
    "\n",
    "\n",
    "Ans :- The sys.version function is used to check the version of Python which we are currently working."
   ]
  },
  {
   "cell_type": "code",
   "execution_count": null,
   "id": "f9e82e0a-30ec-4bef-873d-fc681b1f1f18",
   "metadata": {},
   "outputs": [],
   "source": [
    "9. Python supports the creation of anonymous functions at runtime, using a construct called ______?\n",
    "Ans :- Lambda\n"
   ]
  },
  {
   "cell_type": "code",
   "execution_count": null,
   "id": "6cca6e2b-93b7-40a9-9b83-bfeeffe92f08",
   "metadata": {},
   "outputs": [],
   "source": [
    "10. What does PIP stand for python ?\n",
    "\n",
    "Ans :- In Python, PIP stands for \"Pip Installs Packages\" or \"Preferred Installer Program\". It is a package manager that is\n",
    "       used to install,upgrade, and manage Python packages and their dependencies."
   ]
  },
  {
   "cell_type": "code",
   "execution_count": null,
   "id": "ea99116d-f215-4240-9aee-7d4427606ed5",
   "metadata": {},
   "outputs": [],
   "source": [
    "11. Mention a Few built-in functions in Python ?\n",
    "\n",
    "Ans :- Some of the most useful functions in Python are print(), abs(), round(), min(), max(), sorted(), sum(), and len()."
   ]
  },
  {
   "cell_type": "code",
   "execution_count": null,
   "id": "7181e16d-c440-4c97-9bfb-0b0458ba5eae",
   "metadata": {},
   "outputs": [],
   "source": [
    "12. What is the maximum possible length of an identifier in Python ?\n",
    "\n",
    "Ans :- The maximun possible length of an identifier in Python is 79 characters."
   ]
  },
  {
   "cell_type": "code",
   "execution_count": null,
   "id": "29e4047f-fdc3-4f26-ac05-f1331912aff0",
   "metadata": {},
   "outputs": [],
   "source": [
    "13. What are the benefits of using Pyhton ?\n",
    "\n",
    "Ans :-  Easy to learn:\n",
    "       Python is a relatively easy programming language to learn, even for beginners with no prior programming experience.Its\n",
    "       syntax is similar to English, and it has a large number of online resources and tutorials that can help you get\n",
    "       started.\n",
    "        \n",
    "        Versatile:\n",
    "        Python can be used for a wide variety of tasks, including data science, machine learning, web development, and\n",
    "        artificial intelligence. This makes it a valuable tool for a variety of professionals.\n",
    "        \n",
    "        Portable:\n",
    "        Python is a portable language, which means that it can be run on a variety of operating systems. This makes it a good\n",
    "        choice for businesses that need to develop software that can be used on a variety of devices.\n",
    "        \n",
    "        Extensible:\n",
    "        Python is an extensible language, which means that it can be extended with new modules and libraries. This makes it\n",
    "        possible to customize Python to meet your specific needs.\n",
    "        \n",
    "        Free and open-source:\n",
    "        Python is a free and open-source language, which means that it is available to everyone. This makes it a \n",
    "        cost-effective choice for businesses and individuals.\n",
    "        "
   ]
  },
  {
   "cell_type": "code",
   "execution_count": null,
   "id": "c5cc557d-31c2-4a4c-8efb-4c359908f1b8",
   "metadata": {},
   "outputs": [],
   "source": [
    "14. How is memory managed in Python ?\n",
    "\n",
    "Ans :- Memory management in Python involves the management of a private heap. A private heap is a portion of memory that is\n",
    "       exclusive to the Python process. All Python objects and data structures are stored in the private heap. "
   ]
  },
  {
   "cell_type": "code",
   "execution_count": null,
   "id": "c190af88-b788-422e-ab94-d23094654e01",
   "metadata": {},
   "outputs": [],
   "source": [
    "15. How to install Python on Windows and set path variables?\n",
    "\n",
    "Ans :-\n",
    "      Steps to install Python on windows. Go to the Start menu\n",
    "Type \"Microsoft Store\"\n",
    "Select the link to open the store\n",
    "Select Search from the upper-right menu\n",
    "Enter \"Python\"\n",
    "Select which version of Python you would like to use from the results under Apps.\n",
    "\n",
    "      Steps to set path variables.\n",
    "    Right click on My Computer and click on properties\n",
    "Click on Advanced System settings\n",
    "Click on Environment Variable tab\n",
    "Click on new tab of user variables\n",
    "Write path in variable name\n",
    "Copy the path of Python folder\n",
    "Paste path of Python in variable value\n",
    "Click on Ok button\n",
    "      "
   ]
  },
  {
   "cell_type": "code",
   "execution_count": null,
   "id": "44fb7b57-7e2e-4f5b-9b5e-86c6716615a0",
   "metadata": {},
   "outputs": [],
   "source": [
    "16. Is indetation required in Python?\n",
    "\n",
    "Ans :- Yes, indentation is required in Python. Indentation is a crucial part of the syntax in Python, and it is used\n",
    "       to define the scope of code blocks and improve the readability of the code."
   ]
  }
 ],
 "metadata": {
  "kernelspec": {
   "display_name": "Python 3 (ipykernel)",
   "language": "python",
   "name": "python3"
  },
  "language_info": {
   "codemirror_mode": {
    "name": "ipython",
    "version": 3
   },
   "file_extension": ".py",
   "mimetype": "text/x-python",
   "name": "python",
   "nbconvert_exporter": "python",
   "pygments_lexer": "ipython3",
   "version": "3.10.8"
  }
 },
 "nbformat": 4,
 "nbformat_minor": 5
}
